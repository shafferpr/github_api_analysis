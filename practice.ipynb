{
 "cells": [
  {
   "cell_type": "code",
   "execution_count": 28,
   "metadata": {
    "collapsed": true
   },
   "outputs": [],
   "source": [
    "import tensorflow"
   ]
  },
  {
   "cell_type": "code",
   "execution_count": 40,
   "metadata": {
    "scrolled": true
   },
   "outputs": [],
   "source": [
    "import matplotlib.pyplot as plt"
   ]
  },
  {
   "cell_type": "code",
   "execution_count": 30,
   "metadata": {
    "collapsed": true
   },
   "outputs": [],
   "source": [
    "import numpy"
   ]
  },
  {
   "cell_type": "code",
   "execution_count": 31,
   "metadata": {
    "collapsed": true
   },
   "outputs": [],
   "source": [
    "import sklearn"
   ]
  },
  {
   "cell_type": "code",
   "execution_count": 32,
   "metadata": {
    "collapsed": true
   },
   "outputs": [],
   "source": [
    "import scipy"
   ]
  },
  {
   "cell_type": "code",
   "execution_count": null,
   "metadata": {
    "collapsed": true
   },
   "outputs": [],
   "source": []
  },
  {
   "cell_type": "code",
   "execution_count": 33,
   "metadata": {},
   "outputs": [],
   "source": [
    "import pandas\n",
    "import bokeh"
   ]
  },
  {
   "cell_type": "code",
   "execution_count": 34,
   "metadata": {
    "collapsed": true
   },
   "outputs": [],
   "source": [
    "import bokeh"
   ]
  },
  {
   "cell_type": "markdown",
   "metadata": {},
   "source": [
    "# this is a comment"
   ]
  },
  {
   "cell_type": "code",
   "execution_count": 35,
   "metadata": {
    "collapsed": true
   },
   "outputs": [],
   "source": [
    "#this is another comment"
   ]
  },
  {
   "cell_type": "markdown",
   "metadata": {},
   "source": [
    "this is a markdown equation $\\div \\alpha$"
   ]
  },
  {
   "cell_type": "raw",
   "metadata": {},
   "source": [
    "what is raw nbconvert"
   ]
  },
  {
   "cell_type": "code",
   "execution_count": 41,
   "metadata": {},
   "outputs": [
    {
     "data": {
      "image/png": "[encoded data removed]",
      "text/plain": [
       "<matplotlib.figure.Figure at 0x114795198>"
      ]
     },
     "metadata": {},
     "output_type": "display_data"
    }
   ],
   "source": [
    "t = numpy.arange(0.0, 2.0, 0.01)\n",
    "s = 1 + numpy.sin(2*numpy.pi*t)\n",
    "plt.plot(t, s)\n",
    "\n",
    "plt.xlabel('time (s)')\n",
    "plt.ylabel('voltage (mV)')\n",
    "plt.title('About as simple as it gets, folks')\n",
    "plt.grid(True)\n",
    "plt.show()"
   ]
  },
  {
   "cell_type": "code",
   "execution_count": 42,
   "metadata": {
    "collapsed": true
   },
   "outputs": [],
   "source": [
    "from bokeh.plotting import figure, output_file, show"
   ]
  },
  {
   "cell_type": "code",
   "execution_count": 54,
   "metadata": {
    "collapsed": true
   },
   "outputs": [],
   "source": [
    "p = figure(title=\"commit size over time\", x_axis_label='date of commit', y_axis_label='size of commit', x_axis_type=\"datetime\")"
   ]
  },
  {
   "cell_type": "code",
   "execution_count": 55,
   "metadata": {},
   "outputs": [
    {
     "data": {
      "text/html": [
       "<div style=\"display: table;\"><div style=\"display: table-row;\"><div style=\"display: table-cell;\"><b title=\"bokeh.models.renderers.GlyphRenderer\">GlyphRenderer</b>(</div><div style=\"display: table-cell;\">id&nbsp;=&nbsp;'bba631c6-bfc3-48e9-b704-99ba5409c126', <span id=\"23883cfc-1af7-4fe3-9b42-bd9aa571e8d5\" style=\"cursor: pointer;\">&hellip;)</span></div></div><div class=\"5e459d5f-1fcc-49d3-889e-d1c4888554d4\" style=\"display: none;\"><div style=\"display: table-cell;\"></div><div style=\"display: table-cell;\">data_source&nbsp;=&nbsp;ColumnDataSource(id='fbb14a80-908a-42a0-9a07-82b299ae0756', ...),</div></div><div class=\"5e459d5f-1fcc-49d3-889e-d1c4888554d4\" style=\"display: none;\"><div style=\"display: table-cell;\"></div><div style=\"display: table-cell;\">glyph&nbsp;=&nbsp;Line(id='bf560197-a518-45a1-b8f1-be42b97bd4bd', ...),</div></div><div class=\"5e459d5f-1fcc-49d3-889e-d1c4888554d4\" style=\"display: none;\"><div style=\"display: table-cell;\"></div><div style=\"display: table-cell;\">hover_glyph&nbsp;=&nbsp;None,</div></div><div class=\"5e459d5f-1fcc-49d3-889e-d1c4888554d4\" style=\"display: none;\"><div style=\"display: table-cell;\"></div><div style=\"display: table-cell;\">js_event_callbacks&nbsp;=&nbsp;{},</div></div><div class=\"5e459d5f-1fcc-49d3-889e-d1c4888554d4\" style=\"display: none;\"><div style=\"display: table-cell;\"></div><div style=\"display: table-cell;\">js_property_callbacks&nbsp;=&nbsp;{},</div></div><div class=\"5e459d5f-1fcc-49d3-889e-d1c4888554d4\" style=\"display: none;\"><div style=\"display: table-cell;\"></div><div style=\"display: table-cell;\">level&nbsp;=&nbsp;'glyph',</div></div><div class=\"5e459d5f-1fcc-49d3-889e-d1c4888554d4\" style=\"display: none;\"><div style=\"display: table-cell;\"></div><div style=\"display: table-cell;\">muted&nbsp;=&nbsp;False,</div></div><div class=\"5e459d5f-1fcc-49d3-889e-d1c4888554d4\" style=\"display: none;\"><div style=\"display: table-cell;\"></div><div style=\"display: table-cell;\">muted_glyph&nbsp;=&nbsp;None,</div></div><div class=\"5e459d5f-1fcc-49d3-889e-d1c4888554d4\" style=\"display: none;\"><div style=\"display: table-cell;\"></div><div style=\"display: table-cell;\">name&nbsp;=&nbsp;None,</div></div><div class=\"5e459d5f-1fcc-49d3-889e-d1c4888554d4\" style=\"display: none;\"><div style=\"display: table-cell;\"></div><div style=\"display: table-cell;\">nonselection_glyph&nbsp;=&nbsp;Line(id='eb5179fc-f3b6-4e47-a447-5d18fc691fe7', ...),</div></div><div class=\"5e459d5f-1fcc-49d3-889e-d1c4888554d4\" style=\"display: none;\"><div style=\"display: table-cell;\"></div><div style=\"display: table-cell;\">selection_glyph&nbsp;=&nbsp;None,</div></div><div class=\"5e459d5f-1fcc-49d3-889e-d1c4888554d4\" style=\"display: none;\"><div style=\"display: table-cell;\"></div><div style=\"display: table-cell;\">subscribed_events&nbsp;=&nbsp;[],</div></div><div class=\"5e459d5f-1fcc-49d3-889e-d1c4888554d4\" style=\"display: none;\"><div style=\"display: table-cell;\"></div><div style=\"display: table-cell;\">tags&nbsp;=&nbsp;[],</div></div><div class=\"5e459d5f-1fcc-49d3-889e-d1c4888554d4\" style=\"display: none;\"><div style=\"display: table-cell;\"></div><div style=\"display: table-cell;\">visible&nbsp;=&nbsp;True,</div></div><div class=\"5e459d5f-1fcc-49d3-889e-d1c4888554d4\" style=\"display: none;\"><div style=\"display: table-cell;\"></div><div style=\"display: table-cell;\">x_range_name&nbsp;=&nbsp;'default',</div></div><div class=\"5e459d5f-1fcc-49d3-889e-d1c4888554d4\" style=\"display: none;\"><div style=\"display: table-cell;\"></div><div style=\"display: table-cell;\">y_range_name&nbsp;=&nbsp;'default')</div></div></div>\n",
       "<script>\n",
       "(function() {\n",
       "  var expanded = false;\n",
       "  var ellipsis = document.getElementById(\"23883cfc-1af7-4fe3-9b42-bd9aa571e8d5\");\n",
       "  ellipsis.addEventListener(\"click\", function() {\n",
       "    var rows = document.getElementsByClassName(\"5e459d5f-1fcc-49d3-889e-d1c4888554d4\");\n",
       "    for (var i = 0; i < rows.length; i++) {\n",
       "      var el = rows[i];\n",
       "      el.style.display = expanded ? \"none\" : \"table-row\";\n",
       "    }\n",
       "    ellipsis.innerHTML = expanded ? \"&hellip;)\" : \"&lsaquo;&lsaquo;&lsaquo;\";\n",
       "    expanded = !expanded;\n",
       "  });\n",
       "})();\n",
       "</script>\n"
      ],
      "text/plain": [
       "GlyphRenderer(id='bba631c6-bfc3-48e9-b704-99ba5409c126', ...)"
      ]
     },
     "execution_count": 55,
     "metadata": {},
     "output_type": "execute_result"
    }
   ],
   "source": [
    "p.line(x, y, legend='hi', line_width=2, line_color=\"blue\")"
   ]
  },
  {
   "cell_type": "code",
   "execution_count": 45,
   "metadata": {
    "collapsed": true
   },
   "outputs": [],
   "source": [
    "x=[1,2,3]"
   ]
  },
  {
   "cell_type": "code",
   "execution_count": 46,
   "metadata": {
    "collapsed": true
   },
   "outputs": [],
   "source": [
    "y=[4,5,6]"
   ]
  },
  {
   "cell_type": "code",
   "execution_count": 49,
   "metadata": {},
   "outputs": [
    {
     "ename": "AttributeError",
     "evalue": "'Figure' object has no attribute 'show'",
     "output_type": "error",
     "traceback": [
      "\u001b[0;31m---------------------------------------------------------------------------\u001b[0m",
      "\u001b[0;31mAttributeError\u001b[0m                            Traceback (most recent call last)",
      "\u001b[0;32m<ipython-input-49-709f73884a30>\u001b[0m in \u001b[0;36m<module>\u001b[0;34m()\u001b[0m\n\u001b[0;32m----> 1\u001b[0;31m \u001b[0mp\u001b[0m\u001b[0;34m.\u001b[0m\u001b[0mshow\u001b[0m\u001b[0;34m(\u001b[0m\u001b[0;34m)\u001b[0m\u001b[0;34m\u001b[0m\u001b[0m\n\u001b[0m",
      "\u001b[0;31mAttributeError\u001b[0m: 'Figure' object has no attribute 'show'"
     ]
    }
   ],
   "source": [
    "p.show()"
   ]
  },
  {
   "cell_type": "code",
   "execution_count": 50,
   "metadata": {
    "collapsed": true
   },
   "outputs": [],
   "source": [
    "show(p)"
   ]
  },
  {
   "cell_type": "code",
   "execution_count": 51,
   "metadata": {
    "collapsed": true
   },
   "outputs": [],
   "source": [
    "from bokeh.io import output_notebook"
   ]
  },
  {
   "cell_type": "code",
   "execution_count": 56,
   "metadata": {},
   "outputs": [
    {
     "data": {
      "text/html": [
       "\n",
       "    <div class=\"bk-root\">\n",
       "        <a href=\"http://bokeh.pydata.org\" target=\"_blank\" class=\"bk-logo bk-logo-small bk-logo-notebook\"></a>\n",
       "        <span id=\"e81982ce-7dc5-4e0e-b3c4-e0381a425fb6\">Loading BokehJS ...</span>\n",
       "    </div>"
      ]
     },
     "metadata": {},
     "output_type": "display_data"
    },
    {
     "data": {
      "application/javascript": [
       "\n",
       "(function(global) {\n",
       "  function now() {\n",
       "    return new Date();\n",
       "  }\n",
       "\n",
       "  var force = true;\n",
       "\n",
       "  if (typeof (window._bokeh_onload_callbacks) === \"undefined\" || force === true) {\n",
       "    window._bokeh_onload_callbacks = [];\n",
       "    window._bokeh_is_loading = undefined;\n",
       "  }\n",
       "\n",
       "\n",
       "  \n",
       "  if (typeof (window._bokeh_timeout) === \"undefined\" || force === true) {\n",
       "    window._bokeh_timeout = Date.now() + 5000;\n",
       "    window._bokeh_failed_load = false;\n",
       "  }\n",
       "\n",
       "  var NB_LOAD_WARNING = {'data': {'text/html':\n",
       "     \"<div style='background-color: #fdd'>\\n\"+\n",
       "     \"<p>\\n\"+\n",
       "     \"BokehJS does not appear to have successfully loaded. If loading BokehJS from CDN, this \\n\"+\n",
       "     \"may be due to a slow or bad network connection. Possible fixes:\\n\"+\n",
       "     \"</p>\\n\"+\n",
       "     \"<ul>\\n\"+\n",
       "     \"<li>re-rerun `output_notebook()` to attempt to load from CDN again, or</li>\\n\"+\n",
       "     \"<li>use INLINE resources instead, as so:</li>\\n\"+\n",
       "     \"</ul>\\n\"+\n",
       "     \"<code>\\n\"+\n",
       "     \"from bokeh.resources import INLINE\\n\"+\n",
       "     \"output_notebook(resources=INLINE)\\n\"+\n",
       "     \"</code>\\n\"+\n",
       "     \"</div>\"}};\n",
       "\n",
       "  function display_loaded() {\n",
       "    if (window.Bokeh !== undefined) {\n",
       "      var el = document.getElementById(\"e81982ce-7dc5-4e0e-b3c4-e0381a425fb6\");\n",
       "      el.textContent = \"BokehJS \" + Bokeh.version + \" successfully loaded.\";\n",
       "    } else if (Date.now() < window._bokeh_timeout) {\n",
       "      setTimeout(display_loaded, 100)\n",
       "    }\n",
       "  }\n",
       "\n",
       "  function run_callbacks() {\n",
       "    try {\n",
       "      window._bokeh_onload_callbacks.forEach(function(callback) { callback() });\n",
       "    }\n",
       "    finally {\n",
       "      delete window._bokeh_onload_callbacks\n",
       "    }\n",
       "    console.info(\"Bokeh: all callbacks have finished\");\n",
       "  }\n",
       "\n",
       "  function load_libs(js_urls, callback) {\n",
       "    window._bokeh_onload_callbacks.push(callback);\n",
       "    if (window._bokeh_is_loading > 0) {\n",
       "      console.log(\"Bokeh: BokehJS is being loaded, scheduling callback at\", now());\n",
       "      return null;\n",
       "    }\n",
       "    if (js_urls == null || js_urls.length === 0) {\n",
       "      run_callbacks();\n",
       "      return null;\n",
       "    }\n",
       "    console.log(\"Bokeh: BokehJS not loaded, scheduling load and callback at\", now());\n",
       "    window._bokeh_is_loading = js_urls.length;\n",
       "    for (var i = 0; i < js_urls.length; i++) {\n",
       "      var url = js_urls[i];\n",
       "      var s = document.createElement('script');\n",
       "      s.src = url;\n",
       "      s.async = false;\n",
       "      s.onreadystatechange = s.onload = function() {\n",
       "        window._bokeh_is_loading--;\n",
       "        if (window._bokeh_is_loading === 0) {\n",
       "          console.log(\"Bokeh: all BokehJS libraries loaded\");\n",
       "          run_callbacks()\n",
       "        }\n",
       "      };\n",
       "      s.onerror = function() {\n",
       "        console.warn(\"failed to load library \" + url);\n",
       "      };\n",
       "      console.log(\"Bokeh: injecting script tag for BokehJS library: \", url);\n",
       "      document.getElementsByTagName(\"head\")[0].appendChild(s);\n",
       "    }\n",
       "  };var element = document.getElementById(\"e81982ce-7dc5-4e0e-b3c4-e0381a425fb6\");\n",
       "  if (element == null) {\n",
       "    console.log(\"Bokeh: ERROR: autoload.js configured with elementid 'e81982ce-7dc5-4e0e-b3c4-e0381a425fb6' but no matching script tag was found. \")\n",
       "    return false;\n",
       "  }\n",
       "\n",
       "  var js_urls = [\"https://cdn.pydata.org/bokeh/release/bokeh-0.12.6.min.js\", \"https://cdn.pydata.org/bokeh/release/bokeh-widgets-0.12.6.min.js\"];\n",
       "\n",
       "  var inline_js = [\n",
       "    function(Bokeh) {\n",
       "      Bokeh.set_log_level(\"info\");\n",
       "    },\n",
       "    \n",
       "    function(Bokeh) {\n",
       "      \n",
       "    },\n",
       "    \n",
       "    function(Bokeh) {\n",
       "      \n",
       "      document.getElementById(\"e81982ce-7dc5-4e0e-b3c4-e0381a425fb6\").textContent = \"BokehJS is loading...\";\n",
       "    },\n",
       "    function(Bokeh) {\n",
       "      console.log(\"Bokeh: injecting CSS: https://cdn.pydata.org/bokeh/release/bokeh-0.12.6.min.css\");\n",
       "      Bokeh.embed.inject_css(\"https://cdn.pydata.org/bokeh/release/bokeh-0.12.6.min.css\");\n",
       "      console.log(\"Bokeh: injecting CSS: https://cdn.pydata.org/bokeh/release/bokeh-widgets-0.12.6.min.css\");\n",
       "      Bokeh.embed.inject_css(\"https://cdn.pydata.org/bokeh/release/bokeh-widgets-0.12.6.min.css\");\n",
       "    }\n",
       "  ];\n",
       "\n",
       "  function run_inline_js() {\n",
       "    \n",
       "    if ((window.Bokeh !== undefined) || (force === true)) {\n",
       "      for (var i = 0; i < inline_js.length; i++) {\n",
       "        inline_js[i](window.Bokeh);\n",
       "      }if (force === true) {\n",
       "        display_loaded();\n",
       "      }} else if (Date.now() < window._bokeh_timeout) {\n",
       "      setTimeout(run_inline_js, 100);\n",
       "    } else if (!window._bokeh_failed_load) {\n",
       "      console.log(\"Bokeh: BokehJS failed to load within specified timeout.\");\n",
       "      window._bokeh_failed_load = true;\n",
       "    } else if (force !== true) {\n",
       "      var cell = $(document.getElementById(\"e81982ce-7dc5-4e0e-b3c4-e0381a425fb6\")).parents('.cell').data().cell;\n",
       "      cell.output_area.append_execute_result(NB_LOAD_WARNING)\n",
       "    }\n",
       "\n",
       "  }\n",
       "\n",
       "  if (window._bokeh_is_loading === 0) {\n",
       "    console.log(\"Bokeh: BokehJS loaded, going straight to plotting\");\n",
       "    run_inline_js();\n",
       "  } else {\n",
       "    load_libs(js_urls, function() {\n",
       "      console.log(\"Bokeh: BokehJS plotting callback run at\", now());\n",
       "      run_inline_js();\n",
       "    });\n",
       "  }\n",
       "}(this));"
      ]
     },
     "metadata": {},
     "output_type": "display_data"
    }
   ],
   "source": [
    "output_notebook()"
   ]
  },
  {
   "cell_type": "code",
   "execution_count": 57,
   "metadata": {},
   "outputs": [
    {
     "data": {
      "text/html": [
       "\n",
       "\n",
       "    <div class=\"bk-root\">\n",
       "        <div class=\"bk-plotdiv\" id=\"e2b9e4c7-b992-46a9-bc4a-d99cbef02ef7\"></div>\n",
       "    </div>\n",
       "<script type=\"text/javascript\">\n",
       "  \n",
       "  (function(global) {\n",
       "    function now() {\n",
       "      return new Date();\n",
       "    }\n",
       "  \n",
       "    var force = false;\n",
       "  \n",
       "    if (typeof (window._bokeh_onload_callbacks) === \"undefined\" || force === true) {\n",
       "      window._bokeh_onload_callbacks = [];\n",
       "      window._bokeh_is_loading = undefined;\n",
       "    }\n",
       "  \n",
       "  \n",
       "    \n",
       "    if (typeof (window._bokeh_timeout) === \"undefined\" || force === true) {\n",
       "      window._bokeh_timeout = Date.now() + 0;\n",
       "      window._bokeh_failed_load = false;\n",
       "    }\n",
       "  \n",
       "    var NB_LOAD_WARNING = {'data': {'text/html':\n",
       "       \"<div style='background-color: #fdd'>\\n\"+\n",
       "       \"<p>\\n\"+\n",
       "       \"BokehJS does not appear to have successfully loaded. If loading BokehJS from CDN, this \\n\"+\n",
       "       \"may be due to a slow or bad network connection. Possible fixes:\\n\"+\n",
       "       \"</p>\\n\"+\n",
       "       \"<ul>\\n\"+\n",
       "       \"<li>re-rerun `output_notebook()` to attempt to load from CDN again, or</li>\\n\"+\n",
       "       \"<li>use INLINE resources instead, as so:</li>\\n\"+\n",
       "       \"</ul>\\n\"+\n",
       "       \"<code>\\n\"+\n",
       "       \"from bokeh.resources import INLINE\\n\"+\n",
       "       \"output_notebook(resources=INLINE)\\n\"+\n",
       "       \"</code>\\n\"+\n",
       "       \"</div>\"}};\n",
       "  \n",
       "    function display_loaded() {\n",
       "      if (window.Bokeh !== undefined) {\n",
       "        var el = document.getElementById(\"e2b9e4c7-b992-46a9-bc4a-d99cbef02ef7\");\n",
       "        el.textContent = \"BokehJS \" + Bokeh.version + \" successfully loaded.\";\n",
       "      } else if (Date.now() < window._bokeh_timeout) {\n",
       "        setTimeout(display_loaded, 100)\n",
       "      }\n",
       "    }\n",
       "  \n",
       "    function run_callbacks() {\n",
       "      try {\n",
       "        window._bokeh_onload_callbacks.forEach(function(callback) { callback() });\n",
       "      }\n",
       "      finally {\n",
       "        delete window._bokeh_onload_callbacks\n",
       "      }\n",
       "      console.info(\"Bokeh: all callbacks have finished\");\n",
       "    }\n",
       "  \n",
       "    function load_libs(js_urls, callback) {\n",
       "      window._bokeh_onload_callbacks.push(callback);\n",
       "      if (window._bokeh_is_loading > 0) {\n",
       "        console.log(\"Bokeh: BokehJS is being loaded, scheduling callback at\", now());\n",
       "        return null;\n",
       "      }\n",
       "      if (js_urls == null || js_urls.length === 0) {\n",
       "        run_callbacks();\n",
       "        return null;\n",
       "      }\n",
       "      console.log(\"Bokeh: BokehJS not loaded, scheduling load and callback at\", now());\n",
       "      window._bokeh_is_loading = js_urls.length;\n",
       "      for (var i = 0; i < js_urls.length; i++) {\n",
       "        var url = js_urls[i];\n",
       "        var s = document.createElement('script');\n",
       "        s.src = url;\n",
       "        s.async = false;\n",
       "        s.onreadystatechange = s.onload = function() {\n",
       "          window._bokeh_is_loading--;\n",
       "          if (window._bokeh_is_loading === 0) {\n",
       "            console.log(\"Bokeh: all BokehJS libraries loaded\");\n",
       "            run_callbacks()\n",
       "          }\n",
       "        };\n",
       "        s.onerror = function() {\n",
       "          console.warn(\"failed to load library \" + url);\n",
       "        };\n",
       "        console.log(\"Bokeh: injecting script tag for BokehJS library: \", url);\n",
       "        document.getElementsByTagName(\"head\")[0].appendChild(s);\n",
       "      }\n",
       "    };var element = document.getElementById(\"e2b9e4c7-b992-46a9-bc4a-d99cbef02ef7\");\n",
       "    if (element == null) {\n",
       "      console.log(\"Bokeh: ERROR: autoload.js configured with elementid 'e2b9e4c7-b992-46a9-bc4a-d99cbef02ef7' but no matching script tag was found. \")\n",
       "      return false;\n",
       "    }\n",
       "  \n",
       "    var js_urls = [];\n",
       "  \n",
       "    var inline_js = [\n",
       "      function(Bokeh) {\n",
       "        (function() {\n",
       "          var fn = function() {\n",
       "            var docs_json = {\"fc11ca6e-ddde-45a5-bb70-77765e0272de\":{\"roots\":{\"references\":[{\"attributes\":{\"axis_label\":\"size of commit\",\"formatter\":{\"id\":\"88374ecc-b7f0-453c-b2bf-1881b87f1bff\",\"type\":\"BasicTickFormatter\"},\"plot\":{\"id\":\"60c2815d-e496-4c8f-ac39-9f17b564f4c6\",\"subtype\":\"Figure\",\"type\":\"Plot\"},\"ticker\":{\"id\":\"d868ae09-ed2a-4878-bdc1-09443627b062\",\"type\":\"BasicTicker\"}},\"id\":\"12d20bb0-1ee0-47fe-9e95-f612c1507a63\",\"type\":\"LinearAxis\"},{\"attributes\":{\"base\":24,\"mantissas\":[1,2,4,6,8,12],\"max_interval\":43200000.0,\"min_interval\":3600000.0,\"num_minor_ticks\":0},\"id\":\"dcb17bce-41e1-46e0-b0b4-58a5851254f2\",\"type\":\"AdaptiveTicker\"},{\"attributes\":{\"days\":[1,8,15,22]},\"id\":\"64c0b2cb-e42d-404d-82c5-6d66a1d2a342\",\"type\":\"DaysTicker\"},{\"attributes\":{},\"id\":\"4ff8a930-5ec2-434c-b808-7325491ab9ab\",\"type\":\"LinearScale\"},{\"attributes\":{\"bottom_units\":\"screen\",\"fill_alpha\":{\"value\":0.5},\"fill_color\":{\"value\":\"lightgrey\"},\"left_units\":\"screen\",\"level\":\"overlay\",\"line_alpha\":{\"value\":1.0},\"line_color\":{\"value\":\"black\"},\"line_dash\":[4,4],\"line_width\":{\"value\":2},\"plot\":null,\"render_mode\":\"css\",\"right_units\":\"screen\",\"top_units\":\"screen\"},\"id\":\"484ff5eb-4e1f-4a0e-949e-c4b8b6ec8b2b\",\"type\":\"BoxAnnotation\"},{\"attributes\":{},\"id\":\"930314af-56c0-4441-9d0a-2bbf5ba4899c\",\"type\":\"YearsTicker\"},{\"attributes\":{\"plot\":{\"id\":\"60c2815d-e496-4c8f-ac39-9f17b564f4c6\",\"subtype\":\"Figure\",\"type\":\"Plot\"}},\"id\":\"08baa62c-d6e6-4e5e-b639-02c4124557c5\",\"type\":\"PanTool\"},{\"attributes\":{\"plot\":{\"id\":\"60c2815d-e496-4c8f-ac39-9f17b564f4c6\",\"subtype\":\"Figure\",\"type\":\"Plot\"}},\"id\":\"6ce9a14b-aea1-4df3-9bcd-29716f973c3d\",\"type\":\"HelpTool\"},{\"attributes\":{\"plot\":{\"id\":\"60c2815d-e496-4c8f-ac39-9f17b564f4c6\",\"subtype\":\"Figure\",\"type\":\"Plot\"}},\"id\":\"db056901-fbba-4118-9b0c-5143868da877\",\"type\":\"SaveTool\"},{\"attributes\":{},\"id\":\"88374ecc-b7f0-453c-b2bf-1881b87f1bff\",\"type\":\"BasicTickFormatter\"},{\"attributes\":{},\"id\":\"4d132f0c-73f8-44fc-9913-535b15c580f6\",\"type\":\"LinearScale\"},{\"attributes\":{\"line_alpha\":{\"value\":0.1},\"line_color\":{\"value\":\"#1f77b4\"},\"line_width\":{\"value\":2},\"x\":{\"field\":\"x\"},\"y\":{\"field\":\"y\"}},\"id\":\"eb5179fc-f3b6-4e47-a447-5d18fc691fe7\",\"type\":\"Line\"},{\"attributes\":{\"months\":[0,4,8]},\"id\":\"7e023137-6bb2-4af0-b68d-56e97a3a39ed\",\"type\":\"MonthsTicker\"},{\"attributes\":{\"months\":[0,1,2,3,4,5,6,7,8,9,10,11]},\"id\":\"1a5ecd99-ae4e-486b-a11a-c72e25fde4b6\",\"type\":\"MonthsTicker\"},{\"attributes\":{\"active_drag\":\"auto\",\"active_inspect\":\"auto\",\"active_scroll\":\"auto\",\"active_tap\":\"auto\",\"tools\":[{\"id\":\"08baa62c-d6e6-4e5e-b639-02c4124557c5\",\"type\":\"PanTool\"},{\"id\":\"c3aa756c-b85d-4977-83fe-95c3129e7dd9\",\"type\":\"WheelZoomTool\"},{\"id\":\"33198f16-063a-44c4-9ed8-86dd4b7721c7\",\"type\":\"BoxZoomTool\"},{\"id\":\"db056901-fbba-4118-9b0c-5143868da877\",\"type\":\"SaveTool\"},{\"id\":\"33025603-f7f6-43ab-9777-46c4adc52d89\",\"type\":\"ResetTool\"},{\"id\":\"6ce9a14b-aea1-4df3-9bcd-29716f973c3d\",\"type\":\"HelpTool\"}]},\"id\":\"68643df9-477f-4906-a006-4418e9a252a9\",\"type\":\"Toolbar\"},{\"attributes\":{\"dimension\":1,\"plot\":{\"id\":\"60c2815d-e496-4c8f-ac39-9f17b564f4c6\",\"subtype\":\"Figure\",\"type\":\"Plot\"},\"ticker\":{\"id\":\"d868ae09-ed2a-4878-bdc1-09443627b062\",\"type\":\"BasicTicker\"}},\"id\":\"3c54652e-272f-478a-845e-9e6a4492e1db\",\"type\":\"Grid\"},{\"attributes\":{\"days\":[1,15]},\"id\":\"084f317e-9673-4d0d-a524-790172c91c83\",\"type\":\"DaysTicker\"},{\"attributes\":{\"callback\":null,\"column_names\":[\"y\",\"x\"],\"data\":{\"x\":[1,2,3],\"y\":[4,5,6]}},\"id\":\"fbb14a80-908a-42a0-9a07-82b299ae0756\",\"type\":\"ColumnDataSource\"},{\"attributes\":{\"plot\":{\"id\":\"60c2815d-e496-4c8f-ac39-9f17b564f4c6\",\"subtype\":\"Figure\",\"type\":\"Plot\"}},\"id\":\"33025603-f7f6-43ab-9777-46c4adc52d89\",\"type\":\"ResetTool\"},{\"attributes\":{\"label\":{\"value\":\"hi\"},\"renderers\":[{\"id\":\"bba631c6-bfc3-48e9-b704-99ba5409c126\",\"type\":\"GlyphRenderer\"}]},\"id\":\"5b1dfc7a-bd08-4718-8424-d1e2f8cda4f5\",\"type\":\"LegendItem\"},{\"attributes\":{\"below\":[{\"id\":\"25ff5774-7130-4913-9763-8aefe62a673d\",\"type\":\"DatetimeAxis\"}],\"left\":[{\"id\":\"12d20bb0-1ee0-47fe-9e95-f612c1507a63\",\"type\":\"LinearAxis\"}],\"renderers\":[{\"id\":\"25ff5774-7130-4913-9763-8aefe62a673d\",\"type\":\"DatetimeAxis\"},{\"id\":\"ada166b9-6f52-4f00-b760-3a3ba7fce5cc\",\"type\":\"Grid\"},{\"id\":\"12d20bb0-1ee0-47fe-9e95-f612c1507a63\",\"type\":\"LinearAxis\"},{\"id\":\"3c54652e-272f-478a-845e-9e6a4492e1db\",\"type\":\"Grid\"},{\"id\":\"484ff5eb-4e1f-4a0e-949e-c4b8b6ec8b2b\",\"type\":\"BoxAnnotation\"},{\"id\":\"f977300d-235a-44af-8186-7637c26a7b45\",\"type\":\"Legend\"},{\"id\":\"bba631c6-bfc3-48e9-b704-99ba5409c126\",\"type\":\"GlyphRenderer\"}],\"title\":{\"id\":\"cc14cf49-8431-40ee-b35a-22106295dac8\",\"type\":\"Title\"},\"tool_events\":{\"id\":\"8879881c-74e9-4b6c-b4ea-9d101c8620fd\",\"type\":\"ToolEvents\"},\"toolbar\":{\"id\":\"68643df9-477f-4906-a006-4418e9a252a9\",\"type\":\"Toolbar\"},\"x_range\":{\"id\":\"7b8da33c-9283-4253-9dd9-a5e9d499fa71\",\"type\":\"DataRange1d\"},\"x_scale\":{\"id\":\"4ff8a930-5ec2-434c-b808-7325491ab9ab\",\"type\":\"LinearScale\"},\"y_range\":{\"id\":\"ac822552-f4dc-4764-b126-51d0a1c7a694\",\"type\":\"DataRange1d\"},\"y_scale\":{\"id\":\"4d132f0c-73f8-44fc-9913-535b15c580f6\",\"type\":\"LinearScale\"}},\"id\":\"60c2815d-e496-4c8f-ac39-9f17b564f4c6\",\"subtype\":\"Figure\",\"type\":\"Plot\"},{\"attributes\":{},\"id\":\"8879881c-74e9-4b6c-b4ea-9d101c8620fd\",\"type\":\"ToolEvents\"},{\"attributes\":{\"days\":[1,2,3,4,5,6,7,8,9,10,11,12,13,14,15,16,17,18,19,20,21,22,23,24,25,26,27,28,29,30,31]},\"id\":\"6b4e8127-4afe-4afb-8a42-229f337d207c\",\"type\":\"DaysTicker\"},{\"attributes\":{\"callback\":null},\"id\":\"7b8da33c-9283-4253-9dd9-a5e9d499fa71\",\"type\":\"DataRange1d\"},{\"attributes\":{\"max_interval\":500.0,\"num_minor_ticks\":0},\"id\":\"c42a93e7-9118-4081-b6e8-f03567472ef8\",\"type\":\"AdaptiveTicker\"},{\"attributes\":{\"base\":60,\"mantissas\":[1,2,5,10,15,20,30],\"max_interval\":1800000.0,\"min_interval\":1000.0,\"num_minor_ticks\":0},\"id\":\"c819b63c-1d0e-49e4-8b20-0ca87405a3aa\",\"type\":\"AdaptiveTicker\"},{\"attributes\":{\"callback\":null},\"id\":\"ac822552-f4dc-4764-b126-51d0a1c7a694\",\"type\":\"DataRange1d\"},{\"attributes\":{\"months\":[0,2,4,6,8,10]},\"id\":\"cd493f24-67b2-4b43-9bc0-0bc7665006c9\",\"type\":\"MonthsTicker\"},{\"attributes\":{},\"id\":\"d868ae09-ed2a-4878-bdc1-09443627b062\",\"type\":\"BasicTicker\"},{\"attributes\":{},\"id\":\"b1ad622d-1b6b-454d-860a-2aed710fc900\",\"type\":\"DatetimeTickFormatter\"},{\"attributes\":{\"axis_label\":\"date of commit\",\"formatter\":{\"id\":\"b1ad622d-1b6b-454d-860a-2aed710fc900\",\"type\":\"DatetimeTickFormatter\"},\"plot\":{\"id\":\"60c2815d-e496-4c8f-ac39-9f17b564f4c6\",\"subtype\":\"Figure\",\"type\":\"Plot\"},\"ticker\":{\"id\":\"e9a306bd-91ad-46fe-94ba-23c3e0009d5a\",\"type\":\"DatetimeTicker\"}},\"id\":\"25ff5774-7130-4913-9763-8aefe62a673d\",\"type\":\"DatetimeAxis\"},{\"attributes\":{\"overlay\":{\"id\":\"484ff5eb-4e1f-4a0e-949e-c4b8b6ec8b2b\",\"type\":\"BoxAnnotation\"},\"plot\":{\"id\":\"60c2815d-e496-4c8f-ac39-9f17b564f4c6\",\"subtype\":\"Figure\",\"type\":\"Plot\"}},\"id\":\"33198f16-063a-44c4-9ed8-86dd4b7721c7\",\"type\":\"BoxZoomTool\"},{\"attributes\":{\"plot\":{\"id\":\"60c2815d-e496-4c8f-ac39-9f17b564f4c6\",\"subtype\":\"Figure\",\"type\":\"Plot\"}},\"id\":\"c3aa756c-b85d-4977-83fe-95c3129e7dd9\",\"type\":\"WheelZoomTool\"},{\"attributes\":{\"plot\":{\"id\":\"60c2815d-e496-4c8f-ac39-9f17b564f4c6\",\"subtype\":\"Figure\",\"type\":\"Plot\"},\"ticker\":{\"id\":\"e9a306bd-91ad-46fe-94ba-23c3e0009d5a\",\"type\":\"DatetimeTicker\"}},\"id\":\"ada166b9-6f52-4f00-b760-3a3ba7fce5cc\",\"type\":\"Grid\"},{\"attributes\":{\"data_source\":{\"id\":\"fbb14a80-908a-42a0-9a07-82b299ae0756\",\"type\":\"ColumnDataSource\"},\"glyph\":{\"id\":\"bf560197-a518-45a1-b8f1-be42b97bd4bd\",\"type\":\"Line\"},\"hover_glyph\":null,\"muted_glyph\":null,\"nonselection_glyph\":{\"id\":\"eb5179fc-f3b6-4e47-a447-5d18fc691fe7\",\"type\":\"Line\"},\"selection_glyph\":null},\"id\":\"bba631c6-bfc3-48e9-b704-99ba5409c126\",\"type\":\"GlyphRenderer\"},{\"attributes\":{\"months\":[0,6]},\"id\":\"c8b5a3e1-b42f-4638-9066-252e80ebe73c\",\"type\":\"MonthsTicker\"},{\"attributes\":{\"plot\":null,\"text\":\"commit size over time\"},\"id\":\"cc14cf49-8431-40ee-b35a-22106295dac8\",\"type\":\"Title\"},{\"attributes\":{\"days\":[1,4,7,10,13,16,19,22,25,28]},\"id\":\"d0a03b8d-62b4-4617-bb88-db8f257991ce\",\"type\":\"DaysTicker\"},{\"attributes\":{\"items\":[{\"id\":\"5b1dfc7a-bd08-4718-8424-d1e2f8cda4f5\",\"type\":\"LegendItem\"}],\"plot\":{\"id\":\"60c2815d-e496-4c8f-ac39-9f17b564f4c6\",\"subtype\":\"Figure\",\"type\":\"Plot\"}},\"id\":\"f977300d-235a-44af-8186-7637c26a7b45\",\"type\":\"Legend\"},{\"attributes\":{\"line_color\":{\"value\":\"blue\"},\"line_width\":{\"value\":2},\"x\":{\"field\":\"x\"},\"y\":{\"field\":\"y\"}},\"id\":\"bf560197-a518-45a1-b8f1-be42b97bd4bd\",\"type\":\"Line\"},{\"attributes\":{\"num_minor_ticks\":5},\"id\":\"e9a306bd-91ad-46fe-94ba-23c3e0009d5a\",\"type\":\"DatetimeTicker\"}],\"root_ids\":[\"60c2815d-e496-4c8f-ac39-9f17b564f4c6\"]},\"title\":\"Bokeh Application\",\"version\":\"0.12.6\"}};\n",
       "            var render_items = [{\"docid\":\"fc11ca6e-ddde-45a5-bb70-77765e0272de\",\"elementid\":\"e2b9e4c7-b992-46a9-bc4a-d99cbef02ef7\",\"modelid\":\"60c2815d-e496-4c8f-ac39-9f17b564f4c6\"}];\n",
       "            \n",
       "            Bokeh.embed.embed_items(docs_json, render_items);\n",
       "          };\n",
       "          if (document.readyState != \"loading\") fn();\n",
       "          else document.addEventListener(\"DOMContentLoaded\", fn);\n",
       "        })();\n",
       "      },\n",
       "      function(Bokeh) {\n",
       "      }\n",
       "    ];\n",
       "  \n",
       "    function run_inline_js() {\n",
       "      \n",
       "      if ((window.Bokeh !== undefined) || (force === true)) {\n",
       "        for (var i = 0; i < inline_js.length; i++) {\n",
       "          inline_js[i](window.Bokeh);\n",
       "        }if (force === true) {\n",
       "          display_loaded();\n",
       "        }} else if (Date.now() < window._bokeh_timeout) {\n",
       "        setTimeout(run_inline_js, 100);\n",
       "      } else if (!window._bokeh_failed_load) {\n",
       "        console.log(\"Bokeh: BokehJS failed to load within specified timeout.\");\n",
       "        window._bokeh_failed_load = true;\n",
       "      } else if (force !== true) {\n",
       "        var cell = $(document.getElementById(\"e2b9e4c7-b992-46a9-bc4a-d99cbef02ef7\")).parents('.cell').data().cell;\n",
       "        cell.output_area.append_execute_result(NB_LOAD_WARNING)\n",
       "      }\n",
       "  \n",
       "    }\n",
       "  \n",
       "    if (window._bokeh_is_loading === 0) {\n",
       "      console.log(\"Bokeh: BokehJS loaded, going straight to plotting\");\n",
       "      run_inline_js();\n",
       "    } else {\n",
       "      load_libs(js_urls, function() {\n",
       "        console.log(\"Bokeh: BokehJS plotting callback run at\", now());\n",
       "        run_inline_js();\n",
       "      });\n",
       "    }\n",
       "  }(this));\n",
       "</script>"
      ]
     },
     "metadata": {},
     "output_type": "display_data"
    }
   ],
   "source": [
    "show(p)"
   ]
  },
  {
   "cell_type": "code",
   "execution_count": null,
   "metadata": {
    "collapsed": true
   },
   "outputs": [],
   "source": []
  }
 ],
 "metadata": {
  "kernelspec": {
   "display_name": "Python 3",
   "language": "python",
   "name": "python3"
  },
  "language_info": {
   "codemirror_mode": {
    "name": "ipython",
    "version": 3
   },
   "file_extension": ".py",
   "mimetype": "text/x-python",
   "name": "python",
   "nbconvert_exporter": "python",
   "pygments_lexer": "ipython3",
   "version": "3.5.2"
  }
 },
 "nbformat": 4,
 "nbformat_minor": 2
}
