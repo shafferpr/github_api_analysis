{
 "cells": [
  {
   "cell_type": "code",
   "execution_count": 69,
   "metadata": {
    "collapsed": true
   },
   "outputs": [],
   "source": [
    "import json\n",
    "import requests\n",
    "import os\n",
    "import pandas as pd"
   ]
  },
  {
   "cell_type": "code",
   "execution_count": 48,
   "metadata": {
    "collapsed": true
   },
   "outputs": [],
   "source": [
    "from gql import gql, Client"
   ]
  },
  {
   "cell_type": "code",
   "execution_count": 49,
   "metadata": {
    "collapsed": true
   },
   "outputs": [],
   "source": [
    "from gql.transport.requests import RequestsHTTPTransport"
   ]
  },
  {
   "cell_type": "code",
   "execution_count": 50,
   "metadata": {
    "collapsed": true
   },
   "outputs": [],
   "source": [
    "token=os.environ['github_auth_token']"
   ]
  },
  {
   "cell_type": "code",
   "execution_count": 197,
   "metadata": {},
   "outputs": [],
   "source": [
    "qu_string= 'query{ organization(login: \"Facebook\") { repositories(first: 10, orderBy: {field: CREATED_AT, direction: DESC}) { edges{ node{ name mentionableUsers(first: 10) { edges { node { contributedRepositories(first: 5){ edges{ node{ name } } } } } } } } } } }'\n",
    "data={\"query\" : qu_string}"
   ]
  },
  {
   "cell_type": "code",
   "execution_count": 52,
   "metadata": {
    "collapsed": true
   },
   "outputs": [],
   "source": [
    "json_data=json.dumps(data)"
   ]
  },
  {
   "cell_type": "code",
   "execution_count": 198,
   "metadata": {},
   "outputs": [],
   "source": [
    "r=requests.post('https://api.github.com/graphql', json=data, auth=(token, ''))"
   ]
  },
  {
   "cell_type": "code",
   "execution_count": 54,
   "metadata": {},
   "outputs": [
    {
     "data": {
      "text/plain": [
       "'{\"query\": \"query { viewer { login } }\"}'"
      ]
     },
     "execution_count": 54,
     "metadata": {},
     "output_type": "execute_result"
    }
   ],
   "source": [
    "json_data"
   ]
  },
  {
   "cell_type": "code",
   "execution_count": 199,
   "metadata": {},
   "outputs": [
    {
     "data": {
      "text/plain": [
       "{'data': 'null',\n",
       " 'errors': [{'message': 'Something went wrong while executing your query. This may be the result of a timeout, or it could be a GitHub bug. Please include `CE69:1310:BDD6DF:1A16CCE:598BA824` when reporting this issue.'}]}"
      ]
     },
     "execution_count": 199,
     "metadata": {},
     "output_type": "execute_result"
    }
   ],
   "source": [
    "r.json()"
   ]
  },
  {
   "cell_type": "code",
   "execution_count": 79,
   "metadata": {},
   "outputs": [],
   "source": [
    "data=pd.DataFrame.from_dict(r.json())"
   ]
  },
  {
   "cell_type": "code",
   "execution_count": 146,
   "metadata": {},
   "outputs": [
    {
     "data": {
      "text/plain": [
       "dict"
      ]
     },
     "execution_count": 146,
     "metadata": {},
     "output_type": "execute_result"
    }
   ],
   "source": [
    "type(data['data']['organization']['repositories']['edges'][9])"
   ]
  },
  {
   "cell_type": "code",
   "execution_count": 121,
   "metadata": {},
   "outputs": [
    {
     "data": {
      "text/plain": [
       "'alwaysAsk'"
      ]
     },
     "execution_count": 121,
     "metadata": {},
     "output_type": "execute_result"
    }
   ],
   "source": [
    "data['data']['organization']['repositories']['edges'][0]['node']['mentionableUsers']['edges'][0]['node']['contributedRepositories']['edges'][0]['node']['name']"
   ]
  },
  {
   "cell_type": "code",
   "execution_count": 175,
   "metadata": {},
   "outputs": [],
   "source": [
    "qu_string= 'query{ organization(login: \"Facebook\") { repositories(first: 30, orderBy: {field: CREATED_AT, direction: DESC}) { edges{ node{ name mentionableUsers(first: 10) { edges { node { contributedRepositories(first: 5){ edges{ node{ name } } } } } } } } } } }'"
   ]
  },
  {
   "cell_type": "code",
   "execution_count": 147,
   "metadata": {},
   "outputs": [],
   "source": [
    "list_temp=data['data']['organization']['repositories']['edges']"
   ]
  },
  {
   "cell_type": "code",
   "execution_count": 149,
   "metadata": {},
   "outputs": [
    {
     "data": {
      "text/plain": [
       "'mysql-8.0'"
      ]
     },
     "execution_count": 149,
     "metadata": {},
     "output_type": "execute_result"
    }
   ],
   "source": [
    "list_temp[0]['node']['name']"
   ]
  },
  {
   "cell_type": "code",
   "execution_count": 150,
   "metadata": {
    "collapsed": true
   },
   "outputs": [],
   "source": [
    "listOfNames=[item['node']['name'] for item in list_temp]"
   ]
  },
  {
   "cell_type": "code",
   "execution_count": 151,
   "metadata": {},
   "outputs": [
    {
     "data": {
      "text/plain": [
       "['mysql-8.0',\n",
       " 'prop-types',\n",
       " '360-Capture-SDK',\n",
       " 'DelegatedRecoveryReferenceImplementation',\n",
       " 'facebook-instant-articles-sdk-extensions-in-php',\n",
       " 'litho',\n",
       " 'DelegatedRecoverySpecification',\n",
       " 'Carmel-Starter-Kit',\n",
       " 'metro-bundler',\n",
       " 'react-vr']"
      ]
     },
     "execution_count": 151,
     "metadata": {},
     "output_type": "execute_result"
    }
   ],
   "source": [
    "listOfNames"
   ]
  },
  {
   "cell_type": "code",
   "execution_count": 153,
   "metadata": {},
   "outputs": [
    {
     "name": "stdout",
     "output_type": "stream",
     "text": [
      "mysql-8.0\n",
      "prop-types\n",
      "360-Capture-SDK\n",
      "DelegatedRecoveryReferenceImplementation\n",
      "facebook-instant-articles-sdk-extensions-in-php\n",
      "litho\n",
      "DelegatedRecoverySpecification\n",
      "Carmel-Starter-Kit\n",
      "metro-bundler\n",
      "react-vr\n"
     ]
    }
   ],
   "source": [
    "for i in list_temp"
   ]
  },
  {
   "cell_type": "code",
   "execution_count": 154,
   "metadata": {
    "collapsed": true
   },
   "outputs": [],
   "source": [
    "dict1=dict.fromkeys(listOfNames,1)"
   ]
  },
  {
   "cell_type": "code",
   "execution_count": 157,
   "metadata": {},
   "outputs": [],
   "source": [
    "dict2=dict.fromkeys(listOfNames,dict1)"
   ]
  },
  {
   "cell_type": "code",
   "execution_count": 171,
   "metadata": {},
   "outputs": [
    {
     "data": {
      "text/plain": [
       "'webpack'"
      ]
     },
     "execution_count": 171,
     "metadata": {},
     "output_type": "execute_result"
    }
   ],
   "source": [
    "list_temp[0]['node']['mentionableUsers']['edges'][0]['node']['contributedRepositories']['edges'][1]['node']['name']"
   ]
  },
  {
   "cell_type": "code",
   "execution_count": 173,
   "metadata": {},
   "outputs": [],
   "source": [
    "for item in list_temp:\n",
    "    name1=item['node']['name']\n",
    "    list_temp2=item['node']['mentionableUsers']['edges']\n",
    "    for item2 in list_temp2:\n",
    "        list_temp3=item2['node']['contributedRepositories']['edges']\n",
    "        for item3 in list_temp3:\n",
    "            name2 = item3['node']['name']\n",
    "            if(name2 in listOfNames):\n",
    "                dict2[name1][name2] += 1"
   ]
  },
  {
   "cell_type": "code",
   "execution_count": 203,
   "metadata": {},
   "outputs": [
    {
     "data": {
      "text/plain": [
       "{'360-Capture-SDK': 1,\n",
       " 'Carmel-Starter-Kit': 1,\n",
       " 'DelegatedRecoveryReferenceImplementation': 1,\n",
       " 'DelegatedRecoverySpecification': 1,\n",
       " 'facebook-instant-articles-sdk-extensions-in-php': 2,\n",
       " 'litho': 2,\n",
       " 'metro-bundler': 1,\n",
       " 'mysql-8.0': 1,\n",
       " 'prop-types': 1,\n",
       " 'react-vr': 1}"
      ]
     },
     "execution_count": 203,
     "metadata": {},
     "output_type": "execute_result"
    }
   ],
   "source": [
    "dict2['360-Capture-SDK']"
   ]
  },
  {
   "cell_type": "code",
   "execution_count": 213,
   "metadata": {},
   "outputs": [],
   "source": [
    "links=[]\n",
    "nodes=[]\n",
    "for key in dict2:\n",
    "    individual_dictionary1={\"id\": key, \"group\" : 1}\n",
    "    nodes.append(individual_dictionary1)\n",
    "    for key2 in dict2[key]:\n",
    "        individual_dictionary2={\"source\": key, \"target\": key2, \"value\": dict2[key][key2]}\n",
    "        links.append(individual_dictionary2)"
   ]
  },
  {
   "cell_type": "code",
   "execution_count": 212,
   "metadata": {},
   "outputs": [
    {
     "data": {
      "text/plain": [
       "[{'group': 1, 'id': 'DelegatedRecoverySpecification'},\n",
       " {'group': 1, 'id': '360-Capture-SDK'},\n",
       " {'group': 1, 'id': 'metro-bundler'},\n",
       " {'group': 1, 'id': 'react-vr'},\n",
       " {'group': 1, 'id': 'mysql-8.0'},\n",
       " {'group': 1, 'id': 'prop-types'},\n",
       " {'group': 1, 'id': 'Carmel-Starter-Kit'},\n",
       " {'group': 1, 'id': 'facebook-instant-articles-sdk-extensions-in-php'},\n",
       " {'group': 1, 'id': 'litho'},\n",
       " {'group': 1, 'id': 'DelegatedRecoveryReferenceImplementation'}]"
      ]
     },
     "execution_count": 212,
     "metadata": {},
     "output_type": "execute_result"
    }
   ],
   "source": [
    "nodes"
   ]
  },
  {
   "cell_type": "code",
   "execution_count": 214,
   "metadata": {
    "collapsed": true
   },
   "outputs": [],
   "source": [
    "full_dictionary={\"nodes\": nodes, \"links\": links}"
   ]
  },
  {
   "cell_type": "code",
   "execution_count": 217,
   "metadata": {},
   "outputs": [
    {
     "data": {
      "text/plain": [
       "'{\"nodes\": [{\"group\": 1, \"id\": \"DelegatedRecoverySpecification\"}, {\"group\": 1, \"id\": \"360-Capture-SDK\"}, {\"group\": 1, \"id\": \"metro-bundler\"}, {\"group\": 1, \"id\": \"react-vr\"}, {\"group\": 1, \"id\": \"mysql-8.0\"}, {\"group\": 1, \"id\": \"prop-types\"}, {\"group\": 1, \"id\": \"Carmel-Starter-Kit\"}, {\"group\": 1, \"id\": \"facebook-instant-articles-sdk-extensions-in-php\"}, {\"group\": 1, \"id\": \"litho\"}, {\"group\": 1, \"id\": \"DelegatedRecoveryReferenceImplementation\"}], \"links\": [{\"target\": \"DelegatedRecoverySpecification\", \"value\": 1, \"source\": \"DelegatedRecoverySpecification\"}, {\"target\": \"360-Capture-SDK\", \"value\": 1, \"source\": \"DelegatedRecoverySpecification\"}, {\"target\": \"metro-bundler\", \"value\": 1, \"source\": \"DelegatedRecoverySpecification\"}, {\"target\": \"react-vr\", \"value\": 1, \"source\": \"DelegatedRecoverySpecification\"}, {\"target\": \"mysql-8.0\", \"value\": 1, \"source\": \"DelegatedRecoverySpecification\"}, {\"target\": \"prop-types\", \"value\": 1, \"source\": \"DelegatedRecoverySpecification\"}, {\"target\": \"Carmel-Starter-Kit\", \"value\": 1, \"source\": \"DelegatedRecoverySpecification\"}, {\"target\": \"facebook-instant-articles-sdk-extensions-in-php\", \"value\": 2, \"source\": \"DelegatedRecoverySpecification\"}, {\"target\": \"litho\", \"value\": 2, \"source\": \"DelegatedRecoverySpecification\"}, {\"target\": \"DelegatedRecoveryReferenceImplementation\", \"value\": 1, \"source\": \"DelegatedRecoverySpecification\"}, {\"target\": \"DelegatedRecoverySpecification\", \"value\": 1, \"source\": \"360-Capture-SDK\"}, {\"target\": \"360-Capture-SDK\", \"value\": 1, \"source\": \"360-Capture-SDK\"}, {\"target\": \"metro-bundler\", \"value\": 1, \"source\": \"360-Capture-SDK\"}, {\"target\": \"react-vr\", \"value\": 1, \"source\": \"360-Capture-SDK\"}, {\"target\": \"mysql-8.0\", \"value\": 1, \"source\": \"360-Capture-SDK\"}, {\"target\": \"prop-types\", \"value\": 1, \"source\": \"360-Capture-SDK\"}, {\"target\": \"Carmel-Starter-Kit\", \"value\": 1, \"source\": \"360-Capture-SDK\"}, {\"target\": \"facebook-instant-articles-sdk-extensions-in-php\", \"value\": 2, \"source\": \"360-Capture-SDK\"}, {\"target\": \"litho\", \"value\": 2, \"source\": \"360-Capture-SDK\"}, {\"target\": \"DelegatedRecoveryReferenceImplementation\", \"value\": 1, \"source\": \"360-Capture-SDK\"}, {\"target\": \"DelegatedRecoverySpecification\", \"value\": 1, \"source\": \"metro-bundler\"}, {\"target\": \"360-Capture-SDK\", \"value\": 1, \"source\": \"metro-bundler\"}, {\"target\": \"metro-bundler\", \"value\": 1, \"source\": \"metro-bundler\"}, {\"target\": \"react-vr\", \"value\": 1, \"source\": \"metro-bundler\"}, {\"target\": \"mysql-8.0\", \"value\": 1, \"source\": \"metro-bundler\"}, {\"target\": \"prop-types\", \"value\": 1, \"source\": \"metro-bundler\"}, {\"target\": \"Carmel-Starter-Kit\", \"value\": 1, \"source\": \"metro-bundler\"}, {\"target\": \"facebook-instant-articles-sdk-extensions-in-php\", \"value\": 2, \"source\": \"metro-bundler\"}, {\"target\": \"litho\", \"value\": 2, \"source\": \"metro-bundler\"}, {\"target\": \"DelegatedRecoveryReferenceImplementation\", \"value\": 1, \"source\": \"metro-bundler\"}, {\"target\": \"DelegatedRecoverySpecification\", \"value\": 1, \"source\": \"react-vr\"}, {\"target\": \"360-Capture-SDK\", \"value\": 1, \"source\": \"react-vr\"}, {\"target\": \"metro-bundler\", \"value\": 1, \"source\": \"react-vr\"}, {\"target\": \"react-vr\", \"value\": 1, \"source\": \"react-vr\"}, {\"target\": \"mysql-8.0\", \"value\": 1, \"source\": \"react-vr\"}, {\"target\": \"prop-types\", \"value\": 1, \"source\": \"react-vr\"}, {\"target\": \"Carmel-Starter-Kit\", \"value\": 1, \"source\": \"react-vr\"}, {\"target\": \"facebook-instant-articles-sdk-extensions-in-php\", \"value\": 2, \"source\": \"react-vr\"}, {\"target\": \"litho\", \"value\": 2, \"source\": \"react-vr\"}, {\"target\": \"DelegatedRecoveryReferenceImplementation\", \"value\": 1, \"source\": \"react-vr\"}, {\"target\": \"DelegatedRecoverySpecification\", \"value\": 1, \"source\": \"mysql-8.0\"}, {\"target\": \"360-Capture-SDK\", \"value\": 1, \"source\": \"mysql-8.0\"}, {\"target\": \"metro-bundler\", \"value\": 1, \"source\": \"mysql-8.0\"}, {\"target\": \"react-vr\", \"value\": 1, \"source\": \"mysql-8.0\"}, {\"target\": \"mysql-8.0\", \"value\": 1, \"source\": \"mysql-8.0\"}, {\"target\": \"prop-types\", \"value\": 1, \"source\": \"mysql-8.0\"}, {\"target\": \"Carmel-Starter-Kit\", \"value\": 1, \"source\": \"mysql-8.0\"}, {\"target\": \"facebook-instant-articles-sdk-extensions-in-php\", \"value\": 2, \"source\": \"mysql-8.0\"}, {\"target\": \"litho\", \"value\": 2, \"source\": \"mysql-8.0\"}, {\"target\": \"DelegatedRecoveryReferenceImplementation\", \"value\": 1, \"source\": \"mysql-8.0\"}, {\"target\": \"DelegatedRecoverySpecification\", \"value\": 1, \"source\": \"prop-types\"}, {\"target\": \"360-Capture-SDK\", \"value\": 1, \"source\": \"prop-types\"}, {\"target\": \"metro-bundler\", \"value\": 1, \"source\": \"prop-types\"}, {\"target\": \"react-vr\", \"value\": 1, \"source\": \"prop-types\"}, {\"target\": \"mysql-8.0\", \"value\": 1, \"source\": \"prop-types\"}, {\"target\": \"prop-types\", \"value\": 1, \"source\": \"prop-types\"}, {\"target\": \"Carmel-Starter-Kit\", \"value\": 1, \"source\": \"prop-types\"}, {\"target\": \"facebook-instant-articles-sdk-extensions-in-php\", \"value\": 2, \"source\": \"prop-types\"}, {\"target\": \"litho\", \"value\": 2, \"source\": \"prop-types\"}, {\"target\": \"DelegatedRecoveryReferenceImplementation\", \"value\": 1, \"source\": \"prop-types\"}, {\"target\": \"DelegatedRecoverySpecification\", \"value\": 1, \"source\": \"Carmel-Starter-Kit\"}, {\"target\": \"360-Capture-SDK\", \"value\": 1, \"source\": \"Carmel-Starter-Kit\"}, {\"target\": \"metro-bundler\", \"value\": 1, \"source\": \"Carmel-Starter-Kit\"}, {\"target\": \"react-vr\", \"value\": 1, \"source\": \"Carmel-Starter-Kit\"}, {\"target\": \"mysql-8.0\", \"value\": 1, \"source\": \"Carmel-Starter-Kit\"}, {\"target\": \"prop-types\", \"value\": 1, \"source\": \"Carmel-Starter-Kit\"}, {\"target\": \"Carmel-Starter-Kit\", \"value\": 1, \"source\": \"Carmel-Starter-Kit\"}, {\"target\": \"facebook-instant-articles-sdk-extensions-in-php\", \"value\": 2, \"source\": \"Carmel-Starter-Kit\"}, {\"target\": \"litho\", \"value\": 2, \"source\": \"Carmel-Starter-Kit\"}, {\"target\": \"DelegatedRecoveryReferenceImplementation\", \"value\": 1, \"source\": \"Carmel-Starter-Kit\"}, {\"target\": \"DelegatedRecoverySpecification\", \"value\": 1, \"source\": \"facebook-instant-articles-sdk-extensions-in-php\"}, {\"target\": \"360-Capture-SDK\", \"value\": 1, \"source\": \"facebook-instant-articles-sdk-extensions-in-php\"}, {\"target\": \"metro-bundler\", \"value\": 1, \"source\": \"facebook-instant-articles-sdk-extensions-in-php\"}, {\"target\": \"react-vr\", \"value\": 1, \"source\": \"facebook-instant-articles-sdk-extensions-in-php\"}, {\"target\": \"mysql-8.0\", \"value\": 1, \"source\": \"facebook-instant-articles-sdk-extensions-in-php\"}, {\"target\": \"prop-types\", \"value\": 1, \"source\": \"facebook-instant-articles-sdk-extensions-in-php\"}, {\"target\": \"Carmel-Starter-Kit\", \"value\": 1, \"source\": \"facebook-instant-articles-sdk-extensions-in-php\"}, {\"target\": \"facebook-instant-articles-sdk-extensions-in-php\", \"value\": 2, \"source\": \"facebook-instant-articles-sdk-extensions-in-php\"}, {\"target\": \"litho\", \"value\": 2, \"source\": \"facebook-instant-articles-sdk-extensions-in-php\"}, {\"target\": \"DelegatedRecoveryReferenceImplementation\", \"value\": 1, \"source\": \"facebook-instant-articles-sdk-extensions-in-php\"}, {\"target\": \"DelegatedRecoverySpecification\", \"value\": 1, \"source\": \"litho\"}, {\"target\": \"360-Capture-SDK\", \"value\": 1, \"source\": \"litho\"}, {\"target\": \"metro-bundler\", \"value\": 1, \"source\": \"litho\"}, {\"target\": \"react-vr\", \"value\": 1, \"source\": \"litho\"}, {\"target\": \"mysql-8.0\", \"value\": 1, \"source\": \"litho\"}, {\"target\": \"prop-types\", \"value\": 1, \"source\": \"litho\"}, {\"target\": \"Carmel-Starter-Kit\", \"value\": 1, \"source\": \"litho\"}, {\"target\": \"facebook-instant-articles-sdk-extensions-in-php\", \"value\": 2, \"source\": \"litho\"}, {\"target\": \"litho\", \"value\": 2, \"source\": \"litho\"}, {\"target\": \"DelegatedRecoveryReferenceImplementation\", \"value\": 1, \"source\": \"litho\"}, {\"target\": \"DelegatedRecoverySpecification\", \"value\": 1, \"source\": \"DelegatedRecoveryReferenceImplementation\"}, {\"target\": \"360-Capture-SDK\", \"value\": 1, \"source\": \"DelegatedRecoveryReferenceImplementation\"}, {\"target\": \"metro-bundler\", \"value\": 1, \"source\": \"DelegatedRecoveryReferenceImplementation\"}, {\"target\": \"react-vr\", \"value\": 1, \"source\": \"DelegatedRecoveryReferenceImplementation\"}, {\"target\": \"mysql-8.0\", \"value\": 1, \"source\": \"DelegatedRecoveryReferenceImplementation\"}, {\"target\": \"prop-types\", \"value\": 1, \"source\": \"DelegatedRecoveryReferenceImplementation\"}, {\"target\": \"Carmel-Starter-Kit\", \"value\": 1, \"source\": \"DelegatedRecoveryReferenceImplementation\"}, {\"target\": \"facebook-instant-articles-sdk-extensions-in-php\", \"value\": 2, \"source\": \"DelegatedRecoveryReferenceImplementation\"}, {\"target\": \"litho\", \"value\": 2, \"source\": \"DelegatedRecoveryReferenceImplementation\"}, {\"target\": \"DelegatedRecoveryReferenceImplementation\", \"value\": 1, \"source\": \"DelegatedRecoveryReferenceImplementation\"}]}'"
      ]
     },
     "execution_count": 217,
     "metadata": {},
     "output_type": "execute_result"
    }
   ],
   "source": [
    "json.dumps(full_dictionary)"
   ]
  },
  {
   "cell_type": "code",
   "execution_count": null,
   "metadata": {
    "collapsed": true
   },
   "outputs": [],
   "source": []
  }
 ],
 "metadata": {
  "kernelspec": {
   "display_name": "Python 3",
   "language": "python",
   "name": "python3"
  },
  "language_info": {
   "codemirror_mode": {
    "name": "ipython",
    "version": 3
   },
   "file_extension": ".py",
   "mimetype": "text/x-python",
   "name": "python",
   "nbconvert_exporter": "python",
   "pygments_lexer": "ipython3",
   "version": "3.5.2"
  }
 },
 "nbformat": 4,
 "nbformat_minor": 2
}
